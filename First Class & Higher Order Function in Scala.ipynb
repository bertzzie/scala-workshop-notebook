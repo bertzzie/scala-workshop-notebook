{
 "cells": [
  {
   "cell_type": "markdown",
   "metadata": {},
   "source": [
    "Misalkan anda melihat kode seperti berikut:"
   ]
  },
  {
   "cell_type": "code",
   "execution_count": 1,
   "metadata": {
    "collapsed": false
   },
   "outputs": [
    {
     "name": "stdout",
     "output_type": "stream",
     "text": [
      "Saya belajar pemrograman fungsional!\n",
      "Saya belajar pemrograman imparatif!\n"
     ]
    },
    {
     "data": {
      "text/plain": []
     },
     "metadata": {},
     "output_type": "display_data"
    }
   ],
   "source": [
    "println(\"Saya belajar pemrograman fungsional!\")\n",
    "println(\"Saya belajar pemrograman imparatif!\")"
   ]
  },
  {
   "cell_type": "markdown",
   "metadata": {},
   "source": [
    "Seorang programmer yang baik tentunya akan melihat\n",
    "bahwa kedua baris kode tersebut bisa dibuat menjadi\n",
    "fungsi, untuk mengurangi perulangan.\n",
    "\n",
    "Penambahan fungsi akan mengubah kode menjadi:"
   ]
  },
  {
   "cell_type": "code",
   "execution_count": 2,
   "metadata": {
    "collapsed": false
   },
   "outputs": [
    {
     "name": "stdout",
     "output_type": "stream",
     "text": [
      "Saya belajar pemrograman fungsional!\n",
      "Saya belajar pemrograman imparatif!\n"
     ]
    },
    {
     "data": {
      "text/plain": [
       "defined \u001b[32mfunction \u001b[36mbelajar\u001b[0m"
      ]
     },
     "metadata": {},
     "output_type": "display_data"
    }
   ],
   "source": [
    "def belajar(paradigma: String): Unit = {\n",
    "    println(\"Saya belajar pemrograman \" + paradigma + \"!\")\n",
    "}\n",
    "\n",
    "belajar(\"fungsional\")\n",
    "belajar(\"imparatif\")"
   ]
  },
  {
   "cell_type": "markdown",
   "metadata": {},
   "source": [
    "Kenapa kode pada [2] lebih baik daripada kode pada [1]?\n",
    "\n",
    "* Maintainability\n",
    "* Readability\n",
    "* Abstraction\n",
    "\n",
    "Bagaimana jika kita ingin meningkatkan level dari setiap fungsi tersebut lebih jauh lagi?\n",
    "\n",
    "# Higher Order Function\n",
    "\n",
    "Sebuah *higher order function* (hof) adalah fungsi yang dapat menerima fungsi lain sebagai argumennya. \n",
    "Misalkan, kode yang berulang seperti berikut:"
   ]
  },
  {
   "cell_type": "code",
   "execution_count": 3,
   "metadata": {
    "collapsed": false
   },
   "outputs": [
    {
     "name": "stdout",
     "output_type": "stream",
     "text": [
      "Kode imparatif!\n",
      "imparatif imparatif\n",
      "imparatif c++\n",
      "Kode fungsional!\n",
      "fungsional fungsional\n",
      "fungsional haskell\n"
     ]
    },
    {
     "data": {
      "text/plain": [
       "defined \u001b[32mfunction \u001b[36mbahasa_imparatif\u001b[0m\n",
       "defined \u001b[32mfunction \u001b[36mbahasaFungsional\u001b[0m"
      ]
     },
     "metadata": {},
     "output_type": "display_data"
    }
   ],
   "source": [
    "def bahasa_imparatif(kode: String) = println(\"imparatif \" + kode)\n",
    "def bahasaFungsional(kode: String) = println(\"fungsional \" + kode)\n",
    "\n",
    "println(\"Kode imparatif!\")\n",
    "bahasa_imparatif(\"imparatif\")\n",
    "bahasa_imparatif(\"c++\")\n",
    "    \n",
    "println(\"Kode fungsional!\")\n",
    "bahasaFungsional(\"fungsional\")\n",
    "bahasaFungsional(\"haskell\")"
   ]
  },
  {
   "cell_type": "markdown",
   "metadata": {},
   "source": [
    "yang pada dasarnya melakukan hal yang sama, yaitu:\n",
    "\n",
    "1. Cetak teks \"Kode \" + paradigma (\"fungsional\", \"imparatif\")\n",
    "2. Panggil sebuah fungsi dengan paradigma sebagai parameternya\n",
    "3. Panggil fungsi yang sama sekali lagi, dengan bahasa (\"c++\", \"haskell\") sebagai parametrnya.\n",
    "\n",
    "Karena terdapat pola pada kedua jenis kode di atas, kode tersebut dapat diubah menjadi:"
   ]
  },
  {
   "cell_type": "code",
   "execution_count": 5,
   "metadata": {
    "collapsed": false
   },
   "outputs": [
    {
     "name": "stdout",
     "output_type": "stream",
     "text": [
      "Kode imparatif!\n",
      "imparatif imparatif\n",
      "imparatif c++\n",
      "Kode fungsional!\n",
      "fungsional fungsional\n",
      "fungsional haskell\n"
     ]
    },
    {
     "data": {
      "text/plain": [
       "defined \u001b[32mfunction \u001b[36mcoding\u001b[0m"
      ]
     },
     "metadata": {},
     "output_type": "display_data"
    }
   ],
   "source": [
    "def coding(paradigma: String, bahasa: String, compiler: String => Unit): Unit = {\n",
    "    println(\"Kode \" + paradigma + \"!\")\n",
    "    compiler(paradigma)\n",
    "    compiler(bahasa)\n",
    "}\n",
    "\n",
    "coding(\"imparatif\", \"c++\", bahasa_imparatif)\n",
    "coding(\"fungsional\", \"haskell\", bahasaFungsional)"
   ]
  },
  {
   "cell_type": "markdown",
   "metadata": {},
   "source": [
    "Apa yang baru saja terjadi? Kita mengirimkan fungsi (`bahasa_imparatif`, `bahasaFungsional`)\n",
    "sebagai parameter dari fungsi lain!\n",
    "\n",
    "Tipe data `String => Unit` mendeklarasikan bahwa `compiler` adalah sebuah parameter dari\n",
    "fungsi `coding` dengan tipe data fungsi yang menerima parameter berupa `String` dan tidak\n",
    "mengembalikan apa-apa (`Unit`).\n",
    "\n",
    "Kita bahkan tidak perlu membuat fungsi baru terlebih dahulu untuk menggunakan hof:"
   ]
  },
  {
   "cell_type": "code",
   "execution_count": 6,
   "metadata": {
    "collapsed": false
   },
   "outputs": [
    {
     "name": "stdout",
     "output_type": "stream",
     "text": [
      "Kode object-oriented!\n",
      "Object Oriented object-oriented\n",
      "Object Oriented smalltalk\n",
      "Kode declarative!\n",
      "Declarative declarative\n",
      "Declarative sql\n"
     ]
    },
    {
     "data": {
      "text/plain": []
     },
     "metadata": {},
     "output_type": "display_data"
    }
   ],
   "source": [
    "coding(\"object-oriented\", \"smalltalk\", text => println(\"Object Oriented \" + text))\n",
    "coding(\"declarative\", \"sql\", text => println(\"Declarative \" + text))"
   ]
  },
  {
   "cell_type": "markdown",
   "metadata": {},
   "source": [
    "Begitu kita mulai berpikir dengan mode \"fungsi anonim\", kita akan mulai melihat pola yang\n",
    "sama pada berbagai tempat. Misalnya, melakukan sesuatu terhadap semua elemen di dalam array, seperti menjumlahkan semua elemen yang ada di dalam himpunan:"
   ]
  },
  {
   "cell_type": "code",
   "execution_count": 25,
   "metadata": {
    "collapsed": false
   },
   "outputs": [
    {
     "data": {
      "text/plain": [
       "\u001b[36mhimpunan\u001b[0m: \u001b[32mSeq\u001b[0m[\u001b[32mInt\u001b[0m] = \u001b[33mList\u001b[0m(\n",
       "  \u001b[32m1\u001b[0m,\n",
       "  \u001b[32m2\u001b[0m,\n",
       "  \u001b[32m3\u001b[0m,\n",
       "  \u001b[32m4\u001b[0m,\n",
       "  \u001b[32m5\u001b[0m,\n",
       "  \u001b[32m6\u001b[0m,\n",
       "  \u001b[32m7\u001b[0m,\n",
       "  \u001b[32m8\u001b[0m,\n",
       "  \u001b[32m9\u001b[0m,\n",
       "  \u001b[32m10\u001b[0m\n",
       ")\n",
       "\u001b[36mtotal\u001b[0m: \u001b[32mInt\u001b[0m = \u001b[32m55\u001b[0m"
      ]
     },
     "metadata": {},
     "output_type": "display_data"
    }
   ],
   "source": [
    "val himpunan = Seq(1, 2, 3, 4, 5, 6, 7, 8, 9, 10)\n",
    "\n",
    "var total = 0\n",
    "for (i <- 0 until himpunan.length) {\n",
    "    total = total + himpunan(i)\n",
    "}"
   ]
  },
  {
   "cell_type": "markdown",
   "metadata": {},
   "source": [
    "atau mencetak semua elemen di dalam himpunan:"
   ]
  },
  {
   "cell_type": "code",
   "execution_count": 26,
   "metadata": {
    "collapsed": false
   },
   "outputs": [
    {
     "name": "stdout",
     "output_type": "stream",
     "text": [
      "1\n",
      "2\n",
      "3\n",
      "4\n",
      "5\n",
      "6\n",
      "7\n",
      "8\n",
      "9\n",
      "10\n"
     ]
    },
    {
     "data": {
      "text/plain": [
       "\u001b[36mhimpunan\u001b[0m: \u001b[32mSeq\u001b[0m[\u001b[32mInt\u001b[0m] = \u001b[33mList\u001b[0m(\n",
       "  \u001b[32m1\u001b[0m,\n",
       "  \u001b[32m2\u001b[0m,\n",
       "  \u001b[32m3\u001b[0m,\n",
       "  \u001b[32m4\u001b[0m,\n",
       "  \u001b[32m5\u001b[0m,\n",
       "  \u001b[32m6\u001b[0m,\n",
       "  \u001b[32m7\u001b[0m,\n",
       "  \u001b[32m8\u001b[0m,\n",
       "  \u001b[32m9\u001b[0m,\n",
       "  \u001b[32m10\u001b[0m\n",
       ")"
      ]
     },
     "metadata": {},
     "output_type": "display_data"
    }
   ],
   "source": [
    "val himpunan = Seq(1, 2, 3, 4, 5, 6, 7, 8, 9, 10)\n",
    "for (i <- 0 until himpunan.length) {\n",
    "    println(himpunan(i))\n",
    "}"
   ]
  },
  {
   "cell_type": "markdown",
   "metadata": {},
   "source": [
    "Karena melakukan sesuatu terhadap seluruh elemen yang ada dalam himpunan adalah hal yang sangat umum sekali, \n",
    "kita dapat membuat abstraksi yang melakukan hal tersebut seperti berikut:"
   ]
  },
  {
   "cell_type": "code",
   "execution_count": 27,
   "metadata": {
    "collapsed": false
   },
   "outputs": [
    {
     "data": {
      "text/plain": [
       "defined \u001b[32mfunction \u001b[36mmap\u001b[0m\n",
       "\u001b[36mlst\u001b[0m: \u001b[32mSeq\u001b[0m[\u001b[32mInt\u001b[0m] = \u001b[33mList\u001b[0m(\u001b[32m1\u001b[0m, \u001b[32m2\u001b[0m, \u001b[32m3\u001b[0m, \u001b[32m4\u001b[0m)\n",
       "\u001b[36mres20_2\u001b[0m: \u001b[32mSeq\u001b[0m[\u001b[32mInt\u001b[0m] = \u001b[33mList\u001b[0m(\u001b[32m2\u001b[0m, \u001b[32m3\u001b[0m, \u001b[32m4\u001b[0m, \u001b[32m5\u001b[0m)\n",
       "\u001b[36mres20_3\u001b[0m: \u001b[32mSeq\u001b[0m[\u001b[32mInt\u001b[0m] = \u001b[33mList\u001b[0m(\u001b[32m2\u001b[0m, \u001b[32m4\u001b[0m, \u001b[32m6\u001b[0m, \u001b[32m8\u001b[0m)\n",
       "\u001b[36mres20_4\u001b[0m: \u001b[32mSeq\u001b[0m[\u001b[32mInt\u001b[0m] = \u001b[33mList\u001b[0m(\u001b[32m3\u001b[0m, \u001b[32m5\u001b[0m, \u001b[32m7\u001b[0m, \u001b[32m9\u001b[0m)"
      ]
     },
     "metadata": {},
     "output_type": "display_data"
    }
   ],
   "source": [
    "def map[A](himpunan: Seq[A], aksi: A => A): Seq[A] = {\n",
    "    var result: Seq[A] = Seq.empty[A]\n",
    "    for (i <- 0 until himpunan.length) {\n",
    "        result = result :+ aksi(himpunan(i))\n",
    "    }\n",
    "    \n",
    "    result\n",
    "}\n",
    "\n",
    "val lst = Seq(1, 2, 3, 4)\n",
    "\n",
    "map[Int](lst, i => i + 1)\n",
    "map[Int](lst, i => i * 2)\n",
    "map[Int](lst, i => (i * 2) + 1)"
   ]
  },
  {
   "cell_type": "markdown",
   "metadata": {},
   "source": [
    "Kode `[A]` pada fungsi `map` di atas dan menunjukkan tipe data yang akan diproses oleh map. Menggantikan `A` dengan `Int` pada kode di atas akan memberitahukan *compiler* untuk mendefinisikan fungsi menjadi:\n",
    "\n",
    "    def map(himpunan: Seq[Int], aksi: Int => Int): Seq[Int]\n",
    "    \n",
    "Sehingga ketika kita menggantikan `A` menjadi `String` seperti berikut:\n",
    "\n",
    "    map[String](lst, s => s + \"a\")\n",
    "\n",
    "definisi fungsi akan menjadi:\n",
    "\n",
    "    def map(himpunan: Seq[String], aksi: String => String): Seq[String]\n",
    "    \n",
    "misalnya:"
   ]
  },
  {
   "cell_type": "code",
   "execution_count": 29,
   "metadata": {
    "collapsed": false
   },
   "outputs": [
    {
     "data": {
      "text/plain": [
       "\u001b[36mteks\u001b[0m: \u001b[32mSeq\u001b[0m[\u001b[32mString\u001b[0m] = \u001b[33mList\u001b[0m(\u001b[32m\"dua\"\u001b[0m, \u001b[32m\"tiga\"\u001b[0m, \u001b[32m\"empat\"\u001b[0m, \u001b[32m\"lima\"\u001b[0m)\n",
       "\u001b[36mres22_1\u001b[0m: \u001b[32mSeq\u001b[0m[\u001b[32mString\u001b[0m] = \u001b[33mList\u001b[0m(\u001b[32m\"dua puluh\"\u001b[0m, \u001b[32m\"tiga puluh\"\u001b[0m, \u001b[32m\"empat puluh\"\u001b[0m, \u001b[32m\"lima puluh\"\u001b[0m)"
      ]
     },
     "metadata": {},
     "output_type": "display_data"
    }
   ],
   "source": [
    "val teks = Seq(\"dua\", \"tiga\", \"empat\", \"lima\")\n",
    "\n",
    "map[String](teks, s => s + \" puluh\")"
   ]
  },
  {
   "cell_type": "markdown",
   "metadata": {
    "collapsed": true
   },
   "source": [
    "Contoh operasi lain yang umum dilakukan adalah menggabungkan banyak elemen di dalam sebuah himpunan menjadi satu nilai baru, misalnya menghitung total dari kumpulan bilangan:"
   ]
  },
  {
   "cell_type": "code",
   "execution_count": 16,
   "metadata": {
    "collapsed": false
   },
   "outputs": [
    {
     "data": {
      "text/plain": [
       "defined \u001b[32mfunction \u001b[36mtotal\u001b[0m\n",
       "\u001b[36mbiaya\u001b[0m: \u001b[32mSeq\u001b[0m[\u001b[32mInt\u001b[0m] = \u001b[33mList\u001b[0m(\u001b[32m1000\u001b[0m, \u001b[32m2000\u001b[0m, \u001b[32m1500\u001b[0m, \u001b[32m1250\u001b[0m)\n",
       "\u001b[36mnilai\u001b[0m: \u001b[32mSeq\u001b[0m[\u001b[32mInt\u001b[0m] = \u001b[33mList\u001b[0m(\u001b[32m10\u001b[0m, \u001b[32m5\u001b[0m, \u001b[32m4\u001b[0m, \u001b[32m7\u001b[0m)\n",
       "\u001b[36mtotal_biaya\u001b[0m: \u001b[32mInt\u001b[0m = \u001b[32m5750\u001b[0m\n",
       "\u001b[36mtotal_nilai\u001b[0m: \u001b[32mInt\u001b[0m = \u001b[32m26\u001b[0m"
      ]
     },
     "metadata": {},
     "output_type": "display_data"
    }
   ],
   "source": [
    "def total(himpunan: Seq[Int]): Int = {\n",
    "    var total = 0\n",
    "    for (i <- 0 until himpunan.length) {\n",
    "        total = total + himpunan(i)\n",
    "    }\n",
    "    \n",
    "    total\n",
    "}\n",
    "\n",
    "val biaya = Seq(1000, 2000, 1500, 1250)\n",
    "val nilai = Seq(10, 5, 4, 7)\n",
    "\n",
    "val total_biaya = total(biaya)\n",
    "val total_nilai = total(nilai)"
   ]
  },
  {
   "cell_type": "code",
   "execution_count": 19,
   "metadata": {
    "collapsed": false
   },
   "outputs": [
    {
     "data": {
      "text/plain": [
       "defined \u001b[32mfunction \u001b[36mkalimat\u001b[0m\n",
       "\u001b[36mlagu\u001b[0m: \u001b[32mSeq\u001b[0m[\u001b[32mString\u001b[0m] = \u001b[33mList\u001b[0m(\u001b[32m\"Indonesia\"\u001b[0m, \u001b[32m\"Raya\"\u001b[0m, \u001b[32m\"merdeka\"\u001b[0m, \u001b[32m\"merdeka\"\u001b[0m, \u001b[32m\"!\"\u001b[0m)\n",
       "\u001b[36mteks\u001b[0m: \u001b[32mSeq\u001b[0m[\u001b[32mString\u001b[0m] = \u001b[33mList\u001b[0m(\u001b[32m\"Pemrograman\"\u001b[0m, \u001b[32m\"Fungsional\"\u001b[0m, \u001b[32m\"dengan\"\u001b[0m, \u001b[32m\"Scala\"\u001b[0m)\n",
       "\u001b[36mkalimat_lagu\u001b[0m: \u001b[32mString\u001b[0m = \u001b[32m\"Indonesia Raya merdeka merdeka ! \"\u001b[0m\n",
       "\u001b[36mkalimat_teks\u001b[0m: \u001b[32mString\u001b[0m = \u001b[32m\"Pemrograman Fungsional dengan Scala \"\u001b[0m"
      ]
     },
     "metadata": {},
     "output_type": "display_data"
    }
   ],
   "source": [
    "def kalimat(himpunan: Seq[String]): String = {\n",
    "    var hasil = \"\"\n",
    "    for (i <- 0 until himpunan.length) {\n",
    "        hasil = hasil + himpunan(i) + \" \"\n",
    "    }\n",
    "    \n",
    "    hasil\n",
    "}\n",
    "\n",
    "val lagu = Seq(\"Indonesia\", \"Raya\", \"merdeka\", \"merdeka\", \"!\")\n",
    "val teks = Seq(\"Pemrograman\", \"Fungsional\", \"dengan\", \"Scala\")\n",
    "\n",
    "val kalimat_lagu = kalimat(lagu)\n",
    "val kalimat_teks = kalimat(teks)"
   ]
  },
  {
   "cell_type": "markdown",
   "metadata": {},
   "source": [
    "Fungsi `kalimat` dan `total` dapat kita gabungkan menjadi sebuah fungsi baru yang menggabungkan sekumpulan nilai menjadi satu nilai baru saja:"
   ]
  },
  {
   "cell_type": "code",
   "execution_count": 24,
   "metadata": {
    "collapsed": false
   },
   "outputs": [
    {
     "data": {
      "text/plain": [
       "defined \u001b[32mfunction \u001b[36mreduce\u001b[0m\n",
       "defined \u001b[32mfunction \u001b[36mtotal\u001b[0m\n",
       "defined \u001b[32mfunction \u001b[36mkalimat\u001b[0m\n",
       "\u001b[36mnilai\u001b[0m: \u001b[32mSeq\u001b[0m[\u001b[32mInt\u001b[0m] = \u001b[33mList\u001b[0m(\u001b[32m10\u001b[0m, \u001b[32m20\u001b[0m, \u001b[32m30\u001b[0m, \u001b[32m40\u001b[0m)\n",
       "\u001b[36mkata\u001b[0m: \u001b[32mSeq\u001b[0m[\u001b[32mString\u001b[0m] = \u001b[33mList\u001b[0m(\n",
       "  \u001b[32m\"Sekumpulan\"\u001b[0m,\n",
       "  \u001b[32m\"kata\"\u001b[0m,\n",
       "  \u001b[32m\"digabung\"\u001b[0m,\n",
       "  \u001b[32m\"menjadi\"\u001b[0m,\n",
       "  \u001b[32m\"kalimat\"\u001b[0m\n",
       ")\n",
       "\u001b[36mtotal_nilai\u001b[0m: \u001b[32mInt\u001b[0m = \u001b[32m100\u001b[0m\n",
       "\u001b[36mtotal_kata\u001b[0m: \u001b[32mString\u001b[0m = \u001b[32m\"Sekumpulan kata digabung menjadi kalimat \"\u001b[0m"
      ]
     },
     "metadata": {},
     "output_type": "display_data"
    }
   ],
   "source": [
    "def reduce[A](himpunan: Seq[A], aksi: (A, A) => A, nilaiAwal: A): A = {\n",
    "    var hasil: A = nilaiAwal\n",
    "    for (i <- 0 until himpunan.length) {\n",
    "        hasil = aksi(hasil, himpunan(i))\n",
    "    }\n",
    "    \n",
    "    hasil\n",
    "}\n",
    "\n",
    "def total(himpunan: Seq[Int]): Int = reduce[Int](himpunan, (prev, next) => prev + next, 0)\n",
    "def kalimat(himpunan: Seq[String]): String = reduce[String](himpunan, (prev, next) => prev + next + \" \", \"\")\n",
    "\n",
    "val nilai = Seq(10, 20, 30, 40)\n",
    "val kata  = Seq(\"Sekumpulan\", \"kata\", \"digabung\", \"menjadi\", \"kalimat\")\n",
    "\n",
    "val total_nilai = total(nilai)\n",
    "val total_kata  = kalimat(kata)"
   ]
  },
  {
   "cell_type": "code",
   "execution_count": null,
   "metadata": {
    "collapsed": true
   },
   "outputs": [],
   "source": []
  }
 ],
 "metadata": {
  "kernelspec": {
   "display_name": "Scala 2.11",
   "language": "scala211",
   "name": "scala211"
  },
  "language_info": {
   "codemirror_mode": "text/x-scala",
   "file_extension": ".scala",
   "mimetype": "text/x-scala",
   "name": "scala211",
   "pygments_lexer": "scala",
   "version": "2.11.6"
  }
 },
 "nbformat": 4,
 "nbformat_minor": 0
}
